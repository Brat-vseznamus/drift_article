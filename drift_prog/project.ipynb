{
 "cells": [
  {
   "cell_type": "code",
   "execution_count": 1,
   "metadata": {},
   "outputs": [],
   "source": [
    "from __future__ import print_function\n",
    "from ipywidgets import interact, interactive, fixed, interact_manual\n",
    "import ipywidgets as widgets\n",
    "import numpy as np\n",
    "from matplotlib import pyplot as plt\n",
    "from matplotlib.animation import FuncAnimation"
   ]
  },
  {
   "cell_type": "code",
   "execution_count": 9,
   "metadata": {},
   "outputs": [],
   "source": [
    "def float_text(min_v: float, max_v: float, default: float, name: str):\n",
    "    return widgets.BoundedFloatText(\n",
    "        value=default,\n",
    "        min=min_v,\n",
    "        max=max_v,\n",
    "        step=0.1,\n",
    "        description=name,\n",
    "        disabled=False)\n",
    "\n",
    "def float_slider(min_v: float, max_v: float, default: float, name: str):\n",
    "    return widgets.FloatSlider(\n",
    "        value=default,\n",
    "        min=min_v,\n",
    "        max=max_v,\n",
    "        step=0.01,\n",
    "        description=name,\n",
    "        disabled=False,\n",
    "        continuous_update=True,\n",
    "        orientation='horizontal',\n",
    "        readout=True,\n",
    "        readout_format='.1f')"
   ]
  },
  {
   "cell_type": "code",
   "execution_count": 2,
   "metadata": {},
   "outputs": [],
   "source": [
    "from functions import *"
   ]
  },
  {
   "cell_type": "code",
   "execution_count": 11,
   "metadata": {},
   "outputs": [
    {
     "data": {
      "application/vnd.jupyter.widget-view+json": {
       "model_id": "c7189864b1d14f35aad423465e031512",
       "version_major": 2,
       "version_minor": 0
      },
      "text/plain": [
       "interactive(children=(FloatSlider(value=1.8, description='eps', max=10.0, readout_format='.1f', step=0.01), Fl…"
      ]
     },
     "metadata": {},
     "output_type": "display_data"
    }
   ],
   "source": [
    "def graphics(eps=1.81, s=3, c=4.8, bx1=0, bx2=15, by=1):\n",
    "    fig, axs = plt.subplots(1, 2, figsize=(25, 12))\n",
    "\n",
    "    # Axis 0: functions from gamma\n",
    "\n",
    "    # points of plots\n",
    "    gs = np.linspace(0, np.log(1 + eps) - 0.001, num=100)\n",
    "\n",
    "    # functions\n",
    "    exp2 = exponential_expection(eps=eps, shift=s)\n",
    "    gauss = sub_gaussian(const=c)\n",
    "    \n",
    "    # plots of functions\n",
    "    axs[0].plot(gs, exp2(gs), color='red', label=r'$E[exp(\\gamma X)]$')\n",
    "    \n",
    "    axs[0].plot(gs, gauss(gs), color='green', label=r'$exp(\\frac{c}{2} \\gamma^2)$')\n",
    "    axs[0].plot(gs, [1] * len(gs), '--', color='blue', alpha=0.4)\n",
    "\n",
    "    # points\n",
    "    g0 = np.log(s / (s + 1) * (1 + eps))\n",
    "    gb = np.log(1 + eps) - 0.0001\n",
    "    gc = find_intersection(exp2, gauss, (g0, gb))\n",
    "    g1 = find_intersection(exp2, lambda _: 1, (g0, gc))\n",
    "\n",
    "    # plots of points \n",
    "    if (0 <= gc):\n",
    "        axs[0].plot(gc, gauss(gc), 'o', color='grey')\n",
    "    \n",
    "    axs[0].plot(g0, exp2(g0), 'o', color='grey')\n",
    "    axs[0].plot(g1, 1       , 'o', color='grey')\n",
    "\n",
    "    # view settings\n",
    "    axs[0].set_title(r'X $\\sim Geom(1 + eps) - s$',size=16)\n",
    "    axs[0].set_ylim([0, 4])\n",
    "    axs[0].set_xlabel(r'$\\gamma$',size=15)\n",
    "    axs[0].legend(fontsize=15)\n",
    "\n",
    "    # annotations\n",
    "    axs[0].annotate(r'$\\gamma_0$', (g0 + 0.007, exp2(g0) + 0.04), fontsize=15)\n",
    "    axs[0].annotate(r'$\\gamma_1$', (g1 + 0.01, 1 + 0.041), fontsize=15)\n",
    "    axs[0].annotate(r'$\\delta_0$', (gc - 0.033, exp2(gc) + 0.043), fontsize=15)\n",
    "\n",
    "    # Axis 1: probabilies\n",
    "\n",
    "    # points of plots\n",
    "    ds = np.linspace(0, bx2, num=500)\n",
    "\n",
    "    # functions\n",
    "    neg_pr = negative_drift_probability(eps=eps, shift=s)\n",
    "    neg_pr_ = negative_drift_probability_(eps=eps, shift=s)\n",
    "    sub_pr = sub_gaussian_probability(eps=eps, shift=s)\n",
    "\n",
    "    # additional constants \n",
    "    c_m = find_min_c_approximation(eps, s)\n",
    "\n",
    "    # plots of functions\n",
    "    axs[1].plot(ds, [neg_pr(d) for d in ds], label=r'$\\Pr_{Neg}[T \\leq \\frac{d}{s}]$')\n",
    "    axs[1].plot(ds, [neg_pr_(d, g0) for d in ds], alpha=0.5, color='royalblue', label=r'$\\Pr_{Neg, \\gamma = \\gamma_0}[T \\leq \\frac{d}{s}]$')\n",
    "\n",
    "    axs[1].plot(ds, [sub_pr(d, c) for d in ds], color='orange', label=r'$\\Pr_{Gaus}[T \\leq \\frac{d}{s}]$')\n",
    "    axs[1].plot(ds, [sub_pr(d, c_m) for d in ds], color='yellow', label=r'$\\Pr_{Gaus, c=c_m}[T \\leq \\frac{d}{s}]$')\n",
    "\n",
    "    # # -log of probabilities\n",
    "    # axs[1].plot(ds, [-np.log(neg_pr(d)) for d in ds], label=r'$-\\ln(\\Pr_{Neg}[T \\leq \\frac{d}{s}])$')\n",
    "    # axs[1].plot(ds, [-np.log(sub_pr(d, c_m)) for d in ds], color='yellow', label=r'$-\\ln(\\Pr_{Gaus, c=c_m}[T \\leq \\frac{d}{s}])$')\n",
    "\n",
    "    # view settings\n",
    "    axs[1].set_title(r'Negative drift and sub-gaussian probabilities',size=16)\n",
    "    axs[1].set_ylim([0, by])\n",
    "    axs[1].set_xlim([bx1, bx2])\n",
    "    axs[1].set_xlabel(r'$d$ - distance',size=15)\n",
    "    axs[1].legend(fontsize=15)\n",
    "\n",
    "interactive_plot = interactive(graphics, \n",
    "    eps  = float_slider(0, 10, 1.8, \"eps\"), \n",
    "    s    = (0, 5, 0.01), \n",
    "    c    = (0, 10, 0.01),\n",
    "    bx1  = float_text(0, 10000, 0, \"x-left:\"),\n",
    "    bx2  = float_text(0, 10000, 15, \"x-right:\"),\n",
    "    by   = float_text(0, 10000, 1, \"y-top:\"))\n",
    "\n",
    "output = interactive_plot.children[-1]\n",
    "output.layout.height = '720px'\n",
    "interactive_plot"
   ]
  },
  {
   "cell_type": "code",
   "execution_count": 4,
   "metadata": {},
   "outputs": [
    {
     "data": {
      "application/vnd.jupyter.widget-view+json": {
       "model_id": "9f9d1c18ee5147b99312bcb08cfbbba9",
       "version_major": 2,
       "version_minor": 0
      },
      "text/plain": [
       "interactive(children=(FloatSlider(value=1.25, description='eps', max=10.0, step=0.01), FloatSlider(value=1.25,…"
      ]
     },
     "metadata": {},
     "output_type": "display_data"
    }
   ],
   "source": [
    "from matplotlib.pyplot import figure\n",
    "\n",
    "def graphics(eps=1.25, s=1.25, cl=7):\n",
    "    figure(figsize=(8, 6), dpi=80)\n",
    "\n",
    "    cs = xs = np.linspace(0.2, cl, num=100)\n",
    "\n",
    "    exp2 = exponential_expection(eps=eps, shift=s)\n",
    "\n",
    "    g0 = np.log(s / (s + 1) * (1 + eps))\n",
    "    gb = np.log(1 + eps) - 0.0001\n",
    "    g1 = find_intersection(exp2, lambda _: 1, (g0, gb))\n",
    "\n",
    "    def calculate_min(c: float) -> float:\n",
    "       gauss = sub_gaussian(const=c)\n",
    "       gc = find_intersection(exp2, gauss, (g0, gb))\n",
    "       return min(gc, s/c)\n",
    "\n",
    "    plt.axvline(x=s/np.log(1 + eps - 1 / (3/2 * s)), ymin=0, ymax=1, color='r')\n",
    "    plt.axvline(x=find_min_c_approximation(eps, s), ymin=0, ymax=1, color='r', alpha=0.5)\n",
    "    plt.plot(cs, [calculate_min(c) for c in cs])\n",
    "    plt.plot(cs, [g1 for c in cs])\n",
    "\n",
    "\n",
    "interactive_plot = interactive(graphics, eps=(0, 10.0, 0.01), s=(0, 5, 0.01), cl=(1, 10, 0.01))\n",
    "output = interactive_plot.children[-1]\n",
    "output.layout.height = '400px'\n",
    "interactive_plot"
   ]
  }
 ],
 "metadata": {
  "interpreter": {
   "hash": "31f2aee4e71d21fbe5cf8b01ff0e069b9275f58929596ceb00d14d90e3e16cd6"
  },
  "kernelspec": {
   "display_name": "Python 3.8.10 64-bit",
   "name": "python3"
  },
  "language_info": {
   "codemirror_mode": {
    "name": "ipython",
    "version": 3
   },
   "file_extension": ".py",
   "mimetype": "text/x-python",
   "name": "python",
   "nbconvert_exporter": "python",
   "pygments_lexer": "ipython3",
   "version": "3.8.10"
  },
  "orig_nbformat": 4
 },
 "nbformat": 4,
 "nbformat_minor": 2
}
