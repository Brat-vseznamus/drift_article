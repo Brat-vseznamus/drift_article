{
 "cells": [
  {
   "cell_type": "code",
   "execution_count": 2,
   "metadata": {},
   "outputs": [],
   "source": [
    "from __future__ import print_function\n",
    "from ipywidgets import interact, interactive, fixed, interact_manual\n",
    "import ipywidgets as widgets\n",
    "import numpy as np\n",
    "from matplotlib import pyplot as plt\n",
    "from matplotlib.animation import FuncAnimation"
   ]
  },
  {
   "cell_type": "code",
   "execution_count": 3,
   "metadata": {},
   "outputs": [],
   "source": [
    "from functions import *"
   ]
  },
  {
   "cell_type": "code",
   "execution_count": 19,
   "metadata": {},
   "outputs": [
    {
     "data": {
      "application/vnd.jupyter.widget-view+json": {
       "model_id": "c90e38d50f5a44ca82065e46a84cf33d",
       "version_major": 2,
       "version_minor": 0
      },
      "text/plain": [
       "interactive(children=(FloatSlider(value=5.0, description='eps', max=10.0, step=0.01), FloatSlider(value=1.0, d…"
      ]
     },
     "metadata": {},
     "output_type": "display_data"
    }
   ],
   "source": [
    "def graphics(eps, s, c):\n",
    "    fig, axs = plt.subplots(1, 2, figsize=(16, 8))\n",
    "    \n",
    "    xs = np.linspace(0, np.log(1 + eps) - 0.01, num=100)\n",
    "    \n",
    "    exp2 = exponential_expection(eps=eps, shift=s)\n",
    "    gauss = sub_gaussian(const=c)\n",
    "\n",
    "    x0 = np.log(s / (s + 1) * (1 + eps))\n",
    "\n",
    "    x_inter = find_intersection(exp2, gauss, (x0, np.log(1 + eps) - 0.01))\n",
    "\n",
    "    axs[0].set_title(r'X = $Geom(1 + eps)$ with shift s',size=16)\n",
    "    \n",
    "    axs[0].plot(xs, exp2(xs), color='red', label=r'$E[exp(\\gamma X)]$')\n",
    "\n",
    "    axs[0].plot(xs, gauss(xs), color='green', label=r'$exp(\\frac{c}{2} \\gamma^2)$')\n",
    "    axs[0].plot(xs, [1] * len(xs), color='blue')\n",
    "\n",
    "    if (0 <= x_inter):\n",
    "        axs[0].plot(x_inter, gauss(x_inter), 'o', color='grey')\n",
    "    \n",
    "    axs[0].plot(x0, exp2(x0), 'o', color='grey')\n",
    "    axs[0].set_ylim([0, 4])\n",
    "    axs[0].set_xlabel(r'$\\gamma$',size=15)\n",
    "    axs[0].legend(fontsize=15)\n",
    "\n",
    "    axs[1].set_title(r'Negative drift and sub-gaussian probabilities',size=16)\n",
    "    \n",
    "    ds = np.linspace(0, 10, num=500)\n",
    "\n",
    "    neg_pr = negative_drift_probability(eps=eps, shift=s)\n",
    "    axs[1].plot(ds, [neg_pr(d) for d in ds], label=r'$\\Pr_{Neg}[T \\leq \\frac{d}{E[X]}]$')\n",
    "\n",
    "    sub_pr = sub_gaussian_probability(eps=eps, shift=s)\n",
    "    # print([sub_pr(d, c) for d in ds])\n",
    "    axs[1].plot(ds, [sub_pr(d, c) for d in ds], color='orange', label=r'$\\Pr_{Gaus}[T \\leq \\frac{d}{E[X]}]$')\n",
    "\n",
    "    axs[1].set_ylim([0, 1])\n",
    "    axs[1].set_xlim([0, 10])\n",
    "    axs[1].set_xlabel(r'$d$ - distance',size=15)\n",
    "    axs[1].legend(fontsize=15)\n",
    "\n",
    "    plt.show()\n",
    "\n",
    "interactive_plot = interactive(graphics, eps=(0, 10.0, 0.01), s=(0, 2, 0.01), c=(0, 2, 0.01))\n",
    "output = interactive_plot.children[-1]\n",
    "output.layout.height = '580px'\n",
    "interactive_plot"
   ]
  }
 ],
 "metadata": {
  "interpreter": {
   "hash": "31f2aee4e71d21fbe5cf8b01ff0e069b9275f58929596ceb00d14d90e3e16cd6"
  },
  "kernelspec": {
   "display_name": "Python 3.8.10 64-bit",
   "name": "python3"
  },
  "language_info": {
   "codemirror_mode": {
    "name": "ipython",
    "version": 3
   },
   "file_extension": ".py",
   "mimetype": "text/x-python",
   "name": "python",
   "nbconvert_exporter": "python",
   "pygments_lexer": "ipython3",
   "version": "3.8.10"
  },
  "orig_nbformat": 4
 },
 "nbformat": 4,
 "nbformat_minor": 2
}
